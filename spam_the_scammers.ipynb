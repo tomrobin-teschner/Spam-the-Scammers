{
 "cells": [
  {
   "cell_type": "markdown",
   "id": "de878bde",
   "metadata": {},
   "source": [
    "## Spam the scammers\n",
    "\n",
    "This code spams a fraudulent contact form of a scammer with false credit card details so that it becomes impossible to distinguish real from fake people and so that less harm is done!"
   ]
  },
  {
   "cell_type": "code",
   "execution_count": null,
   "id": "9b639b0c",
   "metadata": {},
   "outputs": [],
   "source": [
    "# install required dependencies\n",
    "%pip install selenium\n",
    "%pip install Faker\n",
    "%pip install beautifulsoup4\n",
    "%pip install requests\n",
    "%pip install pandas"
   ]
  },
  {
   "cell_type": "markdown",
   "id": "729d9553",
   "metadata": {},
   "source": [
    "### Import dependencies"
   ]
  },
  {
   "cell_type": "code",
   "execution_count": null,
   "id": "18a3ca81",
   "metadata": {},
   "outputs": [],
   "source": [
    "from selenium import webdriver\n",
    "from selenium.webdriver.common.by import By\n",
    "from selenium.webdriver.firefox.options import Options\n",
    "from selenium.webdriver.firefox.firefox_profile import FirefoxProfile\n",
    "from selenium.common.exceptions import WebDriverException, TimeoutException\n",
    "\n",
    "from faker import Faker\n",
    "import random\n",
    "\n",
    "import requests\n",
    "from bs4 import BeautifulSoup\n",
    "\n",
    "import pandas as pd"
   ]
  },
  {
   "cell_type": "markdown",
   "id": "09ba799f",
   "metadata": {},
   "source": [
    "### Get a list of free proxy servers\n",
    "\n",
    "After a certain number of (automated) form submissions, you'll get blocked by the webserver. Thus, we need to connect through a proxy which will hide our IP address so that we can spam a fraudulent website with fake data indefinitly (we just need to change our IP address after it got blocked)"
   ]
  },
  {
   "cell_type": "code",
   "execution_count": null,
   "id": "6f229dca",
   "metadata": {},
   "outputs": [],
   "source": [
    "def get_proxies():\n",
    "    # Getting proxy list from website\n",
    "    proxy_list = requests.get('https://free-proxy-list.net/')\n",
    "\n",
    "    # Parsing the HTML code\n",
    "    soup = BeautifulSoup(proxy_list.content, 'html.parser')\n",
    "\n",
    "    # Find table with all proxy addresses\n",
    "    table = soup.find_all('table')\n",
    "\n",
    "    # get all rows in the table\n",
    "    rows = table[0].find('tbody').find_all('tr')\n",
    "\n",
    "    # loop through all rows and store IP addresses and ports if proxy is anonymous\n",
    "    ip_address_list = list()\n",
    "    port_list = list()\n",
    "    for row in rows:\n",
    "        columns = row.find_all('td')\n",
    "        ip_address = columns[0].text\n",
    "        port = columns[1].text\n",
    "        security = columns[4].text\n",
    "\n",
    "        # elite proxy server are anonymous\n",
    "        if security.find('elite') != -1:\n",
    "            ip_address_list.append(ip_address)\n",
    "            port_list.append(port)\n",
    "\n",
    "    df = pd.DataFrame({'ip_address': ip_address_list, 'port': port_list})\n",
    "    return df"
   ]
  },
  {
   "cell_type": "markdown",
   "id": "c46c2d02",
   "metadata": {},
   "source": [
    "### Setup webbrowser\n",
    "\n",
    "We have to select a web browser, ideally one that we don't use on a daily basis. We set up a new profile for firefox here, which includes the ip address and port we got from the proxy server."
   ]
  },
  {
   "cell_type": "code",
   "execution_count": null,
   "id": "0fe8ce54",
   "metadata": {},
   "outputs": [],
   "source": [
    "def get_driver(ip, port):\n",
    "    # Create Firefox profile and set proxy settings\n",
    "    profile = FirefoxProfile()\n",
    "    profile.set_preference(\"network.proxy.type\", 1)\n",
    "    profile.set_preference(\"network.proxy.http\", ip)\n",
    "    profile.set_preference(\"network.proxy.http_port\", int(port))\n",
    "    profile.set_preference(\"network.proxy.ssl\", ip)\n",
    "    profile.set_preference(\"network.proxy.ssl_port\", int(port))\n",
    "    profile.set_preference(\"network.proxy.share_proxy_settings\", True)\n",
    "    profile.set_preference(\"network.proxy.no_proxies_on\", \"\")  # Proxy everything\n",
    "    profile.update_preferences()\n",
    "\n",
    "    # Create options object and attach profile\n",
    "    options = Options()\n",
    "    options.profile = profile\n",
    "\n",
    "    # Start the WebDriver\n",
    "    return webdriver.Firefox(options=options)"
   ]
  },
  {
   "cell_type": "markdown",
   "id": "c0067804",
   "metadata": {},
   "source": [
    "### Main loop\n",
    "\n",
    "Here, we first get a list of proxy servers and then cycle through them as long as the IP addresses are working. We test in a try/except block if the IP address is working (i.e. it hasn't been blocked by the webserver yet). If so, we get the fraudulent website, and enter fake data automatically and submit the form. If we reach the end of all IP addresses, we get a new list of fresh IP addresses and start from the beginning. This script can be left running indefinitly, until the fraudulent website is eventually taken down."
   ]
  },
  {
   "cell_type": "code",
   "execution_count": null,
   "id": "a8b97b5f",
   "metadata": {},
   "outputs": [],
   "source": [
    "# get list of proxies\n",
    "proxies = get_proxies()\n",
    "\n",
    "# set initial ip address and port\n",
    "ip = proxies['ip_address'][0]\n",
    "port = proxies['port'][0]\n",
    "\n",
    "# proxy counter\n",
    "proxy_counter = 1\n",
    "\n",
    "# get initial driver, hiding ip address through proxy\n",
    "driver = get_driver(ip, port)\n",
    "driver.set_page_load_timeout(30)\n",
    "\n",
    "# loop indefinitly\n",
    "fake_data_counter = 0\n",
    "while True:\n",
    "    try:\n",
    "        # Navigate to the webpage with the form\n",
    "        driver.get('https://namida-tokyo.com/a2/login.php')\n",
    "\n",
    "        # get input fields and submit button\n",
    "        email_field = driver.find_element(By.ID, 'inputEmail')\n",
    "        password_field = driver.find_element(By.ID, 'inputPassword')\n",
    "        login_button = driver.find_element(By.ID, 'login')\n",
    "\n",
    "        # generate random first and last name\n",
    "        first_name = Faker('en_US').first_name()\n",
    "        last_name = Faker('en_US').last_name()\n",
    "        domain = random.choice(['gmail.com', 'yahoo.com', 'hotmail.com', 'outlook.com'])\n",
    "        email = first_name.lower() + '.' + last_name.lower() + '@' + domain\n",
    "\n",
    "        # generate fake password\n",
    "        password = Faker('en_US').password()\n",
    "\n",
    "        # fill in form\n",
    "        email_field.send_keys(email)\n",
    "        password_field.send_keys(password)\n",
    "        login_button.click()\n",
    "\n",
    "        # next page should load, now asking for credit card details\n",
    "        cardholder_name_field = driver.find_element(By.ID, 'cardholdername')\n",
    "        card_number_field = driver.find_element(By.ID, 'card_number')\n",
    "        card_expiration_field = driver.find_element(By.ID, 'card_expiry')\n",
    "        card_cvc_field = driver.find_element(By.ID, 'cvc_code')\n",
    "        submit_button = driver.find_element(By.ID, 'submit-payment')\n",
    "\n",
    "        # generate fake credit card number\n",
    "        card_number = Faker('en_US').credit_card_number()\n",
    "        card_expiration = Faker('en_US').credit_card_expire()\n",
    "        card_cvc = Faker('en_US').credit_card_security_code()\n",
    "\n",
    "        # fill in form\n",
    "        cardholder_name_field.send_keys(first_name + ' ' + last_name)\n",
    "        card_number_field.send_keys(card_number)\n",
    "        card_expiration_field.send_keys(card_expiration)\n",
    "        card_cvc_field.send_keys(card_cvc)\n",
    "        submit_button.click()\n",
    "\n",
    "        # increment fake data counter\n",
    "        fake_data_counter += 1\n",
    "        print(f'Fake data submitted: {fake_data_counter}')\n",
    "    except (WebDriverException, TimeoutException) as e:\n",
    "        print(f\"Failed with {ip}:{port} — {e}\")\n",
    "        print('getting new ip and port and I\\'ll try again ...')\n",
    "        \n",
    "        if proxy_counter == len(proxies):\n",
    "            proxies = get_proxies()\n",
    "            proxy_counter = 0\n",
    "        \n",
    "        ip = proxies['ip_address'][proxy_counter]\n",
    "        port = proxies['port'][proxy_counter]            \n",
    "\n",
    "        driver.quit()\n",
    "        driver = get_driver(ip, port)\n",
    "        driver.set_page_load_timeout(30)\n",
    "\n",
    "        proxy_counter += 1\n",
    "\n",
    "        continue\n"
   ]
  }
 ],
 "metadata": {
  "kernelspec": {
   "display_name": "Python 3",
   "language": "python",
   "name": "python3"
  },
  "language_info": {
   "codemirror_mode": {
    "name": "ipython",
    "version": 3
   },
   "file_extension": ".py",
   "mimetype": "text/x-python",
   "name": "python",
   "nbconvert_exporter": "python",
   "pygments_lexer": "ipython3",
   "version": "3.12.8"
  }
 },
 "nbformat": 4,
 "nbformat_minor": 5
}
